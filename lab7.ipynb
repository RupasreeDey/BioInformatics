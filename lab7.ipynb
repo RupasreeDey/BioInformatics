{
  "nbformat": 4,
  "nbformat_minor": 0,
  "metadata": {
    "colab": {
      "name": "2014331032_lab7 (1).ipynb",
      "version": "0.3.2",
      "provenance": []
    },
    "kernelspec": {
      "display_name": "Python 3",
      "language": "python",
      "name": "python3"
    }
  },
  "cells": [
    {
      "metadata": {
        "id": "LjMy7SHK55q_",
        "colab_type": "text"
      },
      "cell_type": "markdown",
      "source": [
        "4f"
      ]
    },
    {
      "metadata": {
        "id": "qqvUkose55rB",
        "colab_type": "code",
        "colab": {},
        "outputId": "d2fdb629-8ad6-43e5-ec91-cb5a832911af"
      },
      "cell_type": "code",
      "source": [
        "peptide=input()\n",
        "\n",
        "theoretical_spectra=[]\n",
        "while(True):\n",
        "    inp=input()\n",
        "    if inp=='':\n",
        "        break\n",
        "    else:\n",
        "        theoretical_spectra.append(int(inp))\n",
        "        \n",
        "#print(theoretical_spectra)\n",
        "\n",
        "mapping={\n",
        "    'G':57,'A':71 , 'S':87, 'P':97 , 'V':99 , 'T':101 , 'C':103 , 'I':113 , 'L':113 , 'N':114 , 'D':115 , 'K':128 , 'Q':128, 'E':129 , 'M':131 , 'H':137 ,\n",
        "    'F':147 , 'R':156 , 'Y':163 , 'W':186 \n",
        "}\n",
        "def subpeptides(peptide):\n",
        "    comb=[]\n",
        "    l = len(peptide)\n",
        "    looped = peptide + peptide\n",
        "    for start in range(0, l):\n",
        "        for length in range(1, l):\n",
        "            comb.append(looped[start:start+length])\n",
        "    return comb\n",
        "            \n",
        "def mass(peptide):\n",
        "    mass=0\n",
        "    for i in range(0,len(peptide)):\n",
        "        mass+=mapping[peptide[i]]     \n",
        "    return mass\n",
        "\n",
        "\n",
        "spectrum=[0,mass(peptide)]\n",
        "subpeptide=subpeptides(peptide)\n",
        "\n",
        "for i in range(0,len(subpeptide)):\n",
        "    spectrum.append(mass(subpeptide[i]))\n",
        "    \n",
        "spectrum.sort()\n",
        "\n",
        "i=0\n",
        "j=0\n",
        "score=0\n",
        "\n",
        "while i<len(theoretical_spectra) and j<len(spectrum):\n",
        "    if theoretical_spectra[i]==spectrum[j]:\n",
        "        i+=1\n",
        "        j+=1\n",
        "        score+=1\n",
        "        \n",
        "    elif theoretical_spectra[i]>spectrum[j]:\n",
        "        j+=1\n",
        "    else:\n",
        "        i+=1\n",
        "\n",
        "    \n",
        "print(score)\n",
        "\n",
        "\n"
      ],
      "execution_count": 0,
      "outputs": [
        {
          "output_type": "stream",
          "text": [
            "NQEL\n",
            "0\n",
            "99\n",
            "113\n",
            "114\n",
            "\n",
            "3\n"
          ],
          "name": "stdout"
        }
      ]
    },
    {
      "metadata": {
        "id": "WljY17gx55rH",
        "colab_type": "text"
      },
      "cell_type": "markdown",
      "source": [
        "4j"
      ]
    },
    {
      "metadata": {
        "id": "3Swcsuc155rJ",
        "colab_type": "code",
        "colab": {},
        "outputId": "c126179d-6d61-44a0-b8da-ed2ca2d0f132"
      },
      "cell_type": "code",
      "source": [
        "mapping={\n",
        "    'G':57,'A':71 , 'S':87, 'P':97 , 'V':99 , 'T':101 , 'C':103 , 'I':113 , 'L':113 , 'N':114 , 'D':115 , 'K':128 , 'Q':128, 'E':129 , 'M':131 , 'H':137 ,\n",
        "    'F':147 , 'R':156 , 'Y':163 , 'W':186 \n",
        "}\n",
        "def subpeptides(peptide):\n",
        "    comb=[]\n",
        "    l = len(peptide)\n",
        "    \n",
        "    for a in range(0, l): #linear subpeptides\n",
        "        for b in range(a, l):\n",
        "            comb.append(peptide[a:b + 1])\n",
        "        \n",
        "    return comb\n",
        "            \n",
        "def mass(peptide):\n",
        "    mass=0\n",
        "    for i in range(0,len(peptide)):\n",
        "        mass+=mapping[peptide[i]]     \n",
        "    return mass\n",
        "\n",
        "peptide=input()\n",
        "spectrum=[0]\n",
        "subpeptide=subpeptides(peptide)\n",
        "\n",
        "for i in range(0,len(subpeptide)):\n",
        "    spectrum.append(mass(subpeptide[i]))\n",
        "    \n",
        "spectrum.sort()\n",
        "print(spectrum)"
      ],
      "execution_count": 0,
      "outputs": [
        {
          "output_type": "stream",
          "text": [
            "NQEL\n",
            "[0, 113, 114, 128, 129, 242, 242, 257, 370, 371, 484]\n"
          ],
          "name": "stdout"
        }
      ]
    },
    {
      "metadata": {
        "id": "tloHSb-L55rN",
        "colab_type": "text"
      },
      "cell_type": "markdown",
      "source": [
        "4k"
      ]
    },
    {
      "metadata": {
        "id": "9bhIqrFI55rO",
        "colab_type": "code",
        "colab": {},
        "outputId": "f0a505f1-a6f2-4a60-c51b-10d4f8f75033"
      },
      "cell_type": "code",
      "source": [
        "peptide=input()\n",
        "\n",
        "theoretical_spectra=[]\n",
        "while(True):\n",
        "    inp=input()\n",
        "    if inp=='':\n",
        "        break\n",
        "    else:\n",
        "        theoretical_spectra.append(int(inp))\n",
        "        \n",
        "#print(theoretical_spectra)\n",
        "\n",
        "mapping={\n",
        "    'G':57,'A':71 , 'S':87, 'P':97 , 'V':99 , 'T':101 , 'C':103 , 'I':113 , 'L':113 , 'N':114 , 'D':115 , 'K':128 , 'Q':128, 'E':129 , 'M':131 , 'H':137 ,\n",
        "    'F':147 , 'R':156 , 'Y':163 , 'W':186 \n",
        "}\n",
        "def subpeptides(peptide):\n",
        "    comb=[]\n",
        "    l = len(peptide)\n",
        "    \n",
        "    for a in range(0, l): #linear subpeptides\n",
        "        for b in range(a, l):\n",
        "            comb.append(peptide[a:b + 1])\n",
        "        \n",
        "    return comb\n",
        "            \n",
        "def mass(peptide):\n",
        "    mass=0\n",
        "    for i in range(0,len(peptide)):\n",
        "        mass+=mapping[peptide[i]]     \n",
        "    return mass\n",
        "\n",
        "\n",
        "spectrum=[0,mass(peptide)]\n",
        "subpeptide=subpeptides(peptide)\n",
        "\n",
        "for i in range(0,len(subpeptide)):\n",
        "    spectrum.append(mass(subpeptide[i]))\n",
        "    \n",
        "spectrum.sort()\n",
        "\n",
        "i=0\n",
        "j=0\n",
        "score=0\n",
        "\n",
        "while i<len(theoretical_spectra) and j<len(spectrum):\n",
        "    if theoretical_spectra[i]==spectrum[j]:\n",
        "        i+=1\n",
        "        j+=1\n",
        "        score+=1\n",
        "        \n",
        "    elif theoretical_spectra[i]>spectrum[j]:\n",
        "        j+=1\n",
        "    else:\n",
        "        i+=1\n",
        "\n",
        "    \n",
        "print(score)\n",
        "\n",
        "\n"
      ],
      "execution_count": 0,
      "outputs": [
        {
          "output_type": "stream",
          "text": [
            "NQEL\n",
            "0\n",
            "99\n",
            "113\n",
            "114\n",
            "\n",
            "3\n"
          ],
          "name": "stdout"
        }
      ]
    },
    {
      "metadata": {
        "id": "Ea2Psehm55rS",
        "colab_type": "text"
      },
      "cell_type": "markdown",
      "source": [
        "4h"
      ]
    },
    {
      "metadata": {
        "id": "xueh_XdQ55rT",
        "colab_type": "code",
        "colab": {},
        "outputId": "7a6f1922-c97f-474e-9a48-5b93bf316222"
      },
      "cell_type": "code",
      "source": [
        "spectra=[]\n",
        "while(True):\n",
        "    inp=input()\n",
        "    if inp=='':\n",
        "        break\n",
        "    else:\n",
        "        spectra.append(int(inp))\n",
        "        \n",
        "#print(spectra)\n",
        "\n",
        "conv=[]\n",
        "    \n",
        "for i in range(0,len(spectra)):\n",
        "    for j in range(0,len(spectra)):\n",
        "        if spectra[j]>spectra[i]:\n",
        "            conv.append(spectra[j]-spectra[i])\n",
        "conv.sort()\n",
        "print(conv)"
      ],
      "execution_count": 0,
      "outputs": [
        {
          "output_type": "stream",
          "text": [
            "0\n",
            "113\n",
            "114\n",
            "323\n",
            "\n",
            "[1, 113, 114, 209, 210, 323]\n"
          ],
          "name": "stdout"
        }
      ]
    },
    {
      "metadata": {
        "id": "jL0HoXit55rW",
        "colab_type": "text"
      },
      "cell_type": "markdown",
      "source": [
        "4e"
      ]
    },
    {
      "metadata": {
        "id": "pDSoKA1h55rX",
        "colab_type": "code",
        "colab": {}
      },
      "cell_type": "code",
      "source": [
        "\n",
        "mass = [57, 71, 87, 97, 99, 101, 103, 113, 114,\n",
        "        115, 128, 129, 131, 137, 147, 156, 163, 186]\n",
        "\n",
        "\n",
        "def cut_peptide(peptide):\n",
        "    result = []\n",
        "    for i in range(1, len(peptide)):  # cut size\n",
        "        for j in range(len(peptide) - i):\n",
        "            result.append(peptide[j:j + i])\n",
        "            result.append(peptide[j + i:] + peptide[:j])  # cyclic peptide\n",
        "    result.append(peptide)\n",
        "    return result\n",
        "\n",
        "\n",
        "def expand(l):\n",
        "    lc = l[:]  # list copy\n",
        "    for i in lc:\n",
        "        l.remove(i)\n",
        "        for m in mass:\n",
        "            temp = i[:]  # list copy\n",
        "            temp.append(m)\n",
        "            l.append(temp)\n",
        "\n",
        "\n",
        "def is_consistent(peptide, spectrum):\n",
        "    spectrum_copy = spectrum[:]\n",
        "    for sp in peptide:\n",
        "        if sp not in spectrum_copy:\n",
        "            return False\n",
        "        else:\n",
        "            spectrum_copy.remove(sp)\n",
        "    return True\n",
        "\n",
        "\n",
        "def cyclopeptide_sequencing(spectrum):\n",
        "    l = [[]]\n",
        "    while len(l) != 0:\n",
        "        expand(l)\n",
        "        for peptide in l:\n",
        "            print(peptide)\n",
        "            print(cut_peptide(peptide))\n",
        "            p_spectrum = [0] + [sum(s) for s in cut_peptide(peptide)]\n",
        "            print(p_spectrum)\n",
        "            if sorted(p_spectrum) == spectrum:\n",
        "                print([str(x) for x in peptide])\n",
        "                l.remove(peptide)\n",
        "            else:\n",
        "                if not is_consistent(peptide, spectrum):\n",
        "                    l.remove(peptide)\n",
        "\n",
        "\n",
        "spectrum=[]\n",
        "while(True):\n",
        "    inp=input()\n",
        "    if inp=='':\n",
        "        break\n",
        "    else:\n",
        "        spectrum.append(int(inp))\n",
        "        \n",
        "#print(spectrum)\n",
        "\n",
        "cyclopeptide_sequencing(spectrum)"
      ],
      "execution_count": 0,
      "outputs": []
    },
    {
      "metadata": {
        "id": "D6zOqAoF55ra",
        "colab_type": "code",
        "colab": {}
      },
      "cell_type": "code",
      "source": [
        ""
      ],
      "execution_count": 0,
      "outputs": []
    }
  ]
}