{
 "cells": [
  {
   "cell_type": "markdown",
   "metadata": {
    "colab_type": "text",
    "id": "WEU_LvxOMbF_"
   },
   "source": [
    "http://rosalind.info/problems/ba1a/"
   ]
  },
  {
   "cell_type": "code",
   "execution_count": 0,
   "metadata": {
    "colab": {},
    "colab_type": "code",
    "id": "Ic_R5r0mMfkg"
   },
   "outputs": [],
   "source": [
    "string = \"abcdggatcgcatgactgccabdcac\"\n",
    "pat = \"ab\"\n",
    "print(string.count(pat))"
   ]
  },
  {
   "cell_type": "markdown",
   "metadata": {
    "colab_type": "text",
    "id": "O-6HS9loO7lH"
   },
   "source": [
    "http://rosalind.info/problems/ba1b/"
   ]
  },
  {
   "cell_type": "code",
   "execution_count": 0,
   "metadata": {
    "colab": {},
    "colab_type": "code",
    "id": "8xAEYQJSPHFr"
   },
   "outputs": [],
   "source": [
    "length = 2\n",
    "string = \"abcdggatcgcatgactgccabdcac\"\n",
    "mx = 0\n",
    "for i in range(0,len(string)-length):\n",
    "    st = string[ i : i + length]\n",
    "    count = string.count(st)\n",
    "    \n",
    "    if(count > mx):\n",
    "        mx = count\n",
    "        output = st\n",
    "print(output)"
   ]
  },
  {
   "cell_type": "markdown",
   "metadata": {
    "colab_type": "text",
    "id": "Oq1A2aPoPdXd"
   },
   "source": [
    "http://rosalind.info/problems/ba1c/"
   ]
  },
  {
   "cell_type": "code",
   "execution_count": 0,
   "metadata": {
    "colab": {},
    "colab_type": "code",
    "id": "H0aA3gu3QtsU"
   },
   "outputs": [],
   "source": [
    "st = input()\n",
    "print(st)\n",
    "l = len(st)\n",
    "print(l)\n",
    "\n",
    "new_st=\"\"\n",
    "for i in range(0,l):\n",
    "    if st[i]=='A' :\n",
    "        new_st += 'T'\n",
    "    elif st[i]=='T':\n",
    "        new_st += 'A'\n",
    "    elif st[i]=='G' :\n",
    "        new_st += 'C'\n",
    "    elif st[i]=='C':\n",
    "        new_st += 'G'\n",
    "print(new_st)\n",
    "\n",
    "rev_comp = new_st[::-1]\n",
    "print(rev_comp)\n"
   ]
  },
  {
   "cell_type": "markdown",
   "metadata": {
    "colab_type": "text",
    "id": "JPFEjl23Q-CY"
   },
   "source": [
    "http://rosalind.info/problems/ba1d/"
   ]
  },
  {
   "cell_type": "code",
   "execution_count": 0,
   "metadata": {
    "colab": {},
    "colab_type": "code",
    "id": "kibldLWMSv0m"
   },
   "outputs": [],
   "source": [
    "pat=input()\n",
    "st=input()\n",
    "position=[]\n",
    "\n",
    "for i in range(0,len(st)-len(pat)+1):\n",
    "  sub_st=st[i:i+len(pat)]\n",
    "  if sub_st==pat:\n",
    "    position.append(i)\n",
    "    \n",
    "print(*position)"
   ]
  },
  {
   "cell_type": "markdown",
   "metadata": {
    "colab_type": "text",
    "id": "5kmnICJHSxka"
   },
   "source": [
    "http://rosalind.info/problems/ba1e/"
   ]
  },
  {
   "cell_type": "code",
   "execution_count": 0,
   "metadata": {
    "colab": {
     "base_uri": "https://localhost:8080/",
     "height": 136
    },
    "colab_type": "code",
    "id": "396L90S-TgLz",
    "outputId": "b398afb4-0382-43ee-ea99-c8a89675a4df"
   },
   "outputs": [
    {
     "name": "stdout",
     "output_type": "stream",
     "text": [
      "CGGACTCGACAGATGTGAAGAAATGTGAAGACTGAGTGAAGAGAAGAGGAAACACGACACGACATTGCGACATAATGTACGAATGTAATGTGCCTATGGC\n",
      "5\n",
      "75\n",
      "4\n",
      "CGACA\n",
      "GAAGA\n",
      "AATGT\n"
     ]
    }
   ],
   "source": [
    "st=input()\n",
    "\n",
    "k = int(input())\n",
    "L = int(input())\n",
    "t = input()\n",
    "strlen = len(st)\n",
    "track = dict()\n",
    "output_patterns = []\n",
    "\n",
    "for i in range(0,len(st)-L+1):\n",
    "  substr = st[i:i+L]\n",
    "  #print(substr)\n",
    "  substr_len = len(substr)\n",
    "  \n",
    "  for j in range(0,substr_len):\n",
    "    pattern = substr[j:j+k]\n",
    "    if len(pattern) == k:\n",
    "      count = substr.count(pattern)\n",
    "      if count >= int(t):\n",
    "        if not pattern in track:\n",
    "          track[pattern] = True\n",
    "          output_patterns.append(pattern)\n",
    "          \n",
    "sz = len(output_patterns)\n",
    "for i in range(0,sz):\n",
    "  print(output_patterns[i])"
   ]
  },
  {
   "cell_type": "markdown",
   "metadata": {
    "colab_type": "text",
    "id": "bgw57ERbTiaf"
   },
   "source": [
    "http://rosalind.info/problems/ba1f/"
   ]
  },
  {
   "cell_type": "code",
   "execution_count": 0,
   "metadata": {
    "colab": {
     "base_uri": "https://localhost:8080/",
     "height": 68
    },
    "colab_type": "code",
    "id": "byrvsOJETwc0",
    "outputId": "034e5ab6-c286-4e40-a442-f525ebe8b49b"
   },
   "outputs": [
    {
     "name": "stdout",
     "output_type": "stream",
     "text": [
      "CCTATCGGTGGATTAGCATGTCCCTGTACGTTTCGCCGCGAACTAGTTCACACGGCTTGATGGCAAATGGTTTTTCCGGCGACCGTAATCGTCCACCGAG\n",
      "53\n",
      "97\n"
     ]
    }
   ],
   "source": [
    "gen=input()\n",
    "g=0\n",
    "c=0\n",
    "mini=100000\n",
    "position=[]\n",
    "dif_store=[]\n",
    "\n",
    "for i in range(0,len(gen)):\n",
    "  if gen[i]=='G':\n",
    "    g+=1\n",
    "  if gen[i]=='C':\n",
    "    c+=1\n",
    "  \n",
    "  dif=g-c\n",
    "  \n",
    "  if dif<=mini:\n",
    "    mini=dif\n",
    "    position.append(i)\n",
    "    dif_store.append(dif)\n",
    "    \n",
    "#print(mini)\n",
    "    \n",
    "#print(*dif_store)\n",
    " \n",
    "for i in range(0,len(position)):\n",
    "  if dif_store[i]==mini:\n",
    "    print(position[i]+1)\n",
    "  "
   ]
  },
  {
   "cell_type": "markdown",
   "metadata": {
    "colab_type": "text",
    "id": "w8U9c6IGTzKS"
   },
   "source": [
    "http://rosalind.info/problems/ba1g/"
   ]
  },
  {
   "cell_type": "code",
   "execution_count": 0,
   "metadata": {
    "colab": {
     "base_uri": "https://localhost:8080/",
     "height": 68
    },
    "colab_type": "code",
    "id": "iWOXKmXTT1_j",
    "outputId": "6ad9e461-2c3f-436b-f68f-4ddc3a12cf4f"
   },
   "outputs": [
    {
     "name": "stdout",
     "output_type": "stream",
     "text": [
      "ACTG\n",
      "AGTC\n",
      "2\n"
     ]
    }
   ],
   "source": [
    "def hamming_dist(st_1,st_2):\n",
    "    l1=len(st_1)\n",
    "    l2=len(st_2)\n",
    "    cnt=0\n",
    "    for i in range(0,l1):\n",
    "        if(st_1[i]!=st_2[i]):\n",
    "            cnt+=1\n",
    "    return(cnt)\n",
    "\n",
    "st_1=input()\n",
    "st_2=input()\n",
    "\n",
    "print(hamming_dist(st_1,st_2))"
   ]
  },
  {
   "cell_type": "markdown",
   "metadata": {
    "colab_type": "text",
    "id": "A-a2auP-T8_D"
   },
   "source": [
    "http://rosalind.info/problems/ba1h/"
   ]
  },
  {
   "cell_type": "code",
   "execution_count": 0,
   "metadata": {
    "colab": {
     "base_uri": "https://localhost:8080/",
     "height": 85
    },
    "colab_type": "code",
    "id": "igZaWrwdr1Qw",
    "outputId": "562d8b7e-b3fe-4397-f14f-c47029207754"
   },
   "outputs": [
    {
     "name": "stdout",
     "output_type": "stream",
     "text": [
      "ATTCTGGA\n",
      "CGCCCGAATCCAGAACGCATTCCCATATTTCGGGACCACTGGCCTCCACGGTACGGACGTCAATCAAATGCCTAGCGGCTTGTGGTTTCTCCTACGCTCC\n",
      "3\n",
      "6 7 26 27 78\n"
     ]
    }
   ],
   "source": [
    "pat = input()\n",
    "text = input()\n",
    "d = input()\n",
    "\n",
    "d=int(d)\n",
    "\n",
    "#print(d)\n",
    "\n",
    "def hamming_dist(st_1,st_2):\n",
    "    l1=len(st_1)\n",
    "    l2=len(st_2)\n",
    "    cnt=0\n",
    "    for i in range(0,l1):\n",
    "        if(st_1[i]!=st_2[i]):\n",
    "            cnt+=1\n",
    "    return(cnt)\n",
    "  \n",
    "pat_l=len(pat)\n",
    "text_l=len(text)\n",
    "ara=[]\n",
    "for i in range(0,text_l-pat_l):\n",
    "    sub_text = text[ i : i + pat_l]\n",
    "    #print(sub_text)\n",
    "    mis_match=hamming_dist(pat,sub_text)\n",
    "    \n",
    "    if(mis_match<=d):\n",
    "        ara.append(i)\n",
    "        \n",
    "print(*ara)"
   ]
  },
  {
   "cell_type": "markdown",
   "metadata": {
    "colab_type": "text",
    "id": "esMOX0q7UAKr"
   },
   "source": [
    "http://rosalind.info/problems/ba1i/"
   ]
  },
  {
   "cell_type": "code",
   "execution_count": 0,
   "metadata": {
    "colab": {
     "base_uri": "https://localhost:8080/",
     "height": 119
    },
    "colab_type": "code",
    "id": "2jl_XczXUClf",
    "outputId": "ce68432d-e065-4fb0-f5b7-28f822c8f57e"
   },
   "outputs": [
    {
     "name": "stdout",
     "output_type": "stream",
     "text": [
      "enter textACGTTGCATGTCGCATGATGCATGAGAGCT\n",
      "enter k4\n",
      "enter d1\n",
      "ATGC\n",
      "ATGT\n",
      "GATG\n"
     ]
    }
   ],
   "source": [
    "text = input(\"enter text\")\n",
    "k = input(\"enter k\")\n",
    "d = input(\"enter d\")\n",
    "\n",
    "k=int(k)\n",
    "d=int(d)\n",
    "\n",
    "def hamming_dist(st_1,st_2):\n",
    "    l1=len(st_1)\n",
    "    l2=len(st_2)\n",
    "    cnt=0\n",
    "    for i in range(0,l1):\n",
    "        if(st_1[i]!=st_2[i]):\n",
    "            cnt+=1\n",
    "    return(cnt)\n",
    "\n",
    "import itertools\n",
    "ar=[]\n",
    "freq=[]\n",
    "\n",
    "ar = [''.join(x) for x in itertools.product('ACTG', repeat=k)]\n",
    "#for i in range(0,len(ar)):\n",
    "    #print(ar[i])\n",
    "    \n",
    "for i in range(0,len(ar)):\n",
    "    pat=ar[i]\n",
    "    cnt=0\n",
    "    for j in range(0, len(text)-len(pat)):\n",
    "        sub_text = text[ j : j + k]\n",
    "        #print(sub_text)\n",
    "        mis_match=hamming_dist(pat,sub_text)\n",
    "        #print(mis_match)\n",
    "        if(mis_match<=d):\n",
    "            cnt+=1\n",
    "            \n",
    "    freq.append(cnt)   \n",
    "\n",
    "mx = 0\n",
    "pat_ar=[]\n",
    "\n",
    "for i in range(0,len(ar)):\n",
    "    if freq[i]>mx:\n",
    "        mx = freq[i]\n",
    "        \n",
    "for i in range(0,len(ar)):\n",
    "    if freq[i]==mx:\n",
    "        print(ar[i]) \n",
    "    \n"
   ]
  },
  {
   "cell_type": "markdown",
   "metadata": {
    "colab_type": "text",
    "id": "yiyoKPbdUDSB"
   },
   "source": [
    "http://rosalind.info/problems/ba1j/"
   ]
  },
  {
   "cell_type": "code",
   "execution_count": 0,
   "metadata": {
    "colab": {
     "base_uri": "https://localhost:8080/",
     "height": 323
    },
    "colab_type": "code",
    "id": "hAcK-K86UExS",
    "outputId": "69b33950-1a7e-462a-c344-ff7c24b7839b"
   },
   "outputs": [
    {
     "name": "stdout",
     "output_type": "stream",
     "text": [
      "enter textACGTTGCATGTCGCATGATGCATGAGAGCT\n",
      "enter k4\n",
      "enter d1\n",
      "ACGTTGCATGTCGCATGATGCATGAGAGCT\n",
      "TGCAACGTACAGCGTACTACGTACTCTCGA\n",
      "AGCTCTCATGCATCATGCGACATGCAACGT\n",
      "8\n",
      "AATG\n",
      "ACAT\n",
      "ATGA\n",
      "ATGC\n",
      "ATGT\n",
      "CATC\n",
      "CATT\n",
      "CATG\n",
      "TCAT\n",
      "GATG\n",
      "GCAT\n"
     ]
    }
   ],
   "source": [
    "text = input(\"enter text\")\n",
    "k = input(\"enter k\")\n",
    "d = input(\"enter d\")\n",
    "\n",
    "k=int(k)\n",
    "d=int(d)\n",
    "\n",
    "def hamming_dist(st_1,st_2):\n",
    "    l1=len(st_1)\n",
    "    l2=len(st_2)\n",
    "    cnt=0\n",
    "    for i in range(0,l1):\n",
    "        if(st_1[i]!=st_2[i]):\n",
    "            cnt+=1\n",
    "    return(cnt)\n",
    "\n",
    "def rev_comp(st):\n",
    "    new_st=\"\"\n",
    "    for i in range(0,len(st)):\n",
    "        if st[i]=='A' :\n",
    "            new_st += 'T'\n",
    "        elif st[i]=='T':\n",
    "            new_st += 'A'\n",
    "        elif st[i]=='G' :\n",
    "            new_st += 'C'\n",
    "        elif st[i]=='C':\n",
    "            new_st += 'G'\n",
    "    return(new_st)\n",
    "\n",
    "import itertools\n",
    "ar=[]\n",
    "freq=[]\n",
    "\n",
    "ar = [''.join(x) for x in itertools.product('ACTG', repeat=k)]\n",
    "#for i in range(0,len(ar)):\n",
    "    #print(ar[i])\n",
    "    \n",
    "rev_com = rev_comp(text)\n",
    "rev_text = rev_com[::-1]\n",
    "\n",
    "print(text)\n",
    "print(rev_com)\n",
    "print(rev_text)\n",
    "\n",
    "    \n",
    "for i in range(0,len(ar)):\n",
    "    pat=ar[i]\n",
    "    cnt1=0\n",
    "    cnt2=0\n",
    "    for j in range(0, len(text)-len(pat)):\n",
    "        sub_text = text[ j : j + k]\n",
    "        #print(sub_text)\n",
    "        mis_match=hamming_dist(pat,sub_text)\n",
    "        #print(mis_match)\n",
    "        if(mis_match<=d):\n",
    "            cnt1+=1\n",
    "    \n",
    "    for j in range(0, len(rev_text)-len(pat)):\n",
    "        sub_text = rev_text[ j : j + k]\n",
    "        #print(sub_text)\n",
    "        mis_match=hamming_dist(pat,sub_text)\n",
    "        #print(mis_match)\n",
    "        if(mis_match<=d):\n",
    "            cnt2+=1\n",
    "            \n",
    "    freq.append(cnt1+cnt2)  \n",
    "    \n",
    "mx = 0\n",
    "pat_ar=[]\n",
    "\n",
    "for i in range(0,len(ar)):\n",
    "    if freq[i]>mx:\n",
    "        mx = freq[i]\n",
    "        \n",
    "print(mx)\n",
    "        \n",
    "for i in range(0,len(ar)):\n",
    "    if freq[i]==mx:\n",
    "        print(ar[i])    "
   ]
  },
  {
   "cell_type": "markdown",
   "metadata": {
    "colab_type": "text",
    "id": "uOi4MnyCUFO4"
   },
   "source": [
    "http://rosalind.info/problems/ba1k/"
   ]
  },
  {
   "cell_type": "code",
   "execution_count": 0,
   "metadata": {
    "colab": {
     "base_uri": "https://localhost:8080/",
     "height": 323
    },
    "colab_type": "code",
    "id": "tS9SGK5VUJUE",
    "outputId": "773e660e-9bbd-4668-8551-65e372f19779"
   },
   "outputs": [
    {
     "name": "stdout",
     "output_type": "stream",
     "text": [
      "ACGCGGCTCTGAAA\n",
      "2\n",
      "1\n",
      "1\n",
      "0\n",
      "0\n",
      "0\n",
      "0\n",
      "2\n",
      "2\n",
      "0\n",
      "1\n",
      "0\n",
      "1\n",
      "1\n",
      "2\n",
      "0\n",
      "1\n"
     ]
    }
   ],
   "source": [
    "gen=input()\n",
    "k=input()\n",
    "\n",
    "k=int(k)\n",
    "\n",
    "import itertools\n",
    "kmers=[''.join(x) for x in itertools.product('ACTG', repeat=k)]\n",
    "\n",
    "for i in range(0,len(kmers)):\n",
    "  print(gen.count(kmers[i]))"
   ]
  },
  {
   "cell_type": "markdown",
   "metadata": {
    "colab_type": "text",
    "id": "26WCZQ1dUKGr"
   },
   "source": [
    "http://rosalind.info/problems/ba1l/"
   ]
  },
  {
   "cell_type": "code",
   "execution_count": 0,
   "metadata": {
    "colab": {
     "base_uri": "https://localhost:8080/",
     "height": 51
    },
    "colab_type": "code",
    "id": "g6sjLznHULst",
    "outputId": "7a16066f-bebd-46c7-ca74-82360d1342b2"
   },
   "outputs": [
    {
     "name": "stdout",
     "output_type": "stream",
     "text": [
      "enter textACG\n",
      "6\n"
     ]
    }
   ],
   "source": [
    "def PatternToNumber(pat):\n",
    "    mapping = {'A':0, 'C':1, 'G':2, 'T':3}\n",
    "    if len(pat) == 0:\n",
    "        return 0\n",
    "    symbol = pat[-1:]\n",
    "    pat = pat[:-1]\n",
    "    return 4*PatternToNumber(pat) + mapping[symbol]\n",
    "\n",
    "pat = input(\"enter text\")\n",
    "print(PatternToNumber(pat))"
   ]
  },
  {
   "cell_type": "markdown",
   "metadata": {
    "colab_type": "text",
    "id": "YPD0I4c5UMN9"
   },
   "source": [
    "http://rosalind.info/problems/ba1m/"
   ]
  },
  {
   "cell_type": "code",
   "execution_count": 0,
   "metadata": {
    "colab": {
     "base_uri": "https://localhost:8080/",
     "height": 68
    },
    "colab_type": "code",
    "id": "J_sKjn5QUNc-",
    "outputId": "e12ef5cc-8850-4efc-bdb0-df37ac6a5984"
   },
   "outputs": [
    {
     "name": "stdout",
     "output_type": "stream",
     "text": [
      "1\n",
      "3\n",
      "AAA\n"
     ]
    }
   ],
   "source": [
    "number = input()\n",
    "number=int(number)\n",
    "k=input()\n",
    "k=int(k)\n",
    "\n",
    "import itertools\n",
    "kmers=[''.join(x) for x in itertools.product('ACTG', repeat=k)]\n",
    "\n",
    "cnt=0\n",
    "for i in range(0,len(kmers)):\n",
    "  cnt+=1\n",
    "  if cnt==number:\n",
    "    print(kmers[i])\n",
    "    break\n"
   ]
  },
  {
   "cell_type": "markdown",
   "metadata": {
    "colab_type": "text",
    "id": "rp4hMLu9URcH"
   },
   "source": [
    "http://rosalind.info/problems/ba1n/"
   ]
  },
  {
   "cell_type": "code",
   "execution_count": 0,
   "metadata": {
    "colab": {
     "base_uri": "https://localhost:8080/",
     "height": 136
    },
    "colab_type": "code",
    "id": "8WzOFrPQUUp3",
    "outputId": "691ac6d0-1912-4dcb-9150-b70eb881cc53"
   },
   "outputs": [
    {
     "name": "stdout",
     "output_type": "stream",
     "text": [
      "ACG\n",
      "1\n",
      "0\n",
      "0\n",
      "0\n",
      "0\n",
      "['A', 'C', 'T', 'G']\n"
     ]
    }
   ],
   "source": [
    "gen=input()\n",
    "d=input()\n",
    "\n",
    "def hamming_dist(a,b):\n",
    "    l1=len(a)\n",
    "    l2=len(b)\n",
    "    if l1<=l2:\n",
    "      l=l1\n",
    "    else:\n",
    "      l=l2\n",
    "    cnt=0\n",
    "    for i in range(0,l-1):\n",
    "      print(a[i])\n",
    "      print(b[i])\n",
    "      if(a[i]!=b[i]):\n",
    "            cnt+=1\n",
    "    return(cnt)\n",
    "\n",
    "\n",
    "import itertools\n",
    "kmers=[''.join(x) for x in itertools.product('ACTG', repeat=int(d))]\n",
    "\n",
    "output=[]\n",
    "for i in range(0,len(kmers)):\n",
    "  print(hamming_dist(gen,kmers[i]))\n",
    "  if hamming_dist(gen,kmers[i])<=int(d):\n",
    "    output.append(kmers[i])\n",
    "    \n",
    "print(output)"
   ]
  }
 ],
 "metadata": {
  "colab": {
   "name": "Chapter1.ipynb",
   "provenance": [],
   "version": "0.3.2"
  },
  "kernelspec": {
   "display_name": "Python 3",
   "language": "python",
   "name": "python3"
  },
  "language_info": {
   "codemirror_mode": {
    "name": "ipython",
    "version": 3
   },
   "file_extension": ".py",
   "mimetype": "text/x-python",
   "name": "python",
   "nbconvert_exporter": "python",
   "pygments_lexer": "ipython3",
   "version": "3.6.5"
  }
 },
 "nbformat": 4,
 "nbformat_minor": 1
}
