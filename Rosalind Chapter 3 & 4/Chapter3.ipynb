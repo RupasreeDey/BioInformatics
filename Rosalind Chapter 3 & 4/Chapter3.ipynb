{
 "cells": [
  {
   "cell_type": "markdown",
   "metadata": {},
   "source": [
    "3A"
   ]
  },
  {
   "cell_type": "code",
   "execution_count": 2,
   "metadata": {},
   "outputs": [
    {
     "name": "stdout",
     "output_type": "stream",
     "text": [
      "5\n",
      "CAATCCAAC\n",
      "CAATC\n",
      "AATCC\n",
      "ATCCA\n",
      "TCCAA\n",
      "CCAAC\n"
     ]
    }
   ],
   "source": [
    "k=int(input())\n",
    "gen=input()\n",
    "\n",
    "for i in range(0,len(gen)-k+1):\n",
    "    sub_gen=gen[i:i+k]\n",
    "    print(sub_gen)"
   ]
  },
  {
   "cell_type": "markdown",
   "metadata": {},
   "source": [
    "3B"
   ]
  },
  {
   "cell_type": "code",
   "execution_count": 3,
   "metadata": {},
   "outputs": [
    {
     "name": "stdout",
     "output_type": "stream",
     "text": [
      "ACCGA\n",
      "CCGAA\n",
      "CGAAG\n",
      "GAAGC\n",
      "AAGCT\n",
      "\n",
      "['ACCGA', 'CCGAA', 'CGAAG', 'GAAGC', 'AAGCT']\n",
      "ACCGAAGCT\n"
     ]
    }
   ],
   "source": [
    "inputs = []\n",
    "while True:\n",
    "    inp = input()\n",
    "    if inp != \"\":\n",
    "        inputs.append(inp)\n",
    "    else:\n",
    "        break\n",
    "#print(inputs)\n",
    "    \n",
    "out=''\n",
    "for i in range(1,len(inputs)):\n",
    "    out+=inputs[i][len(inputs[i])-1]\n",
    "    \n",
    "out=inputs[0]+out\n",
    "\n",
    "print(out)\n",
    "    "
   ]
  },
  {
   "cell_type": "markdown",
   "metadata": {},
   "source": [
    "3C"
   ]
  },
  {
   "cell_type": "code",
   "execution_count": 11,
   "metadata": {},
   "outputs": [
    {
     "name": "stdout",
     "output_type": "stream",
     "text": [
      "ATGCG\n",
      "GCATG\n",
      "CATGC\n",
      "AGGCA\n",
      "GGCAT\n",
      "\n",
      "AGGCA -> GGCAT\n",
      "CATGC -> ATGCG\n",
      "GCATG -> CATGC\n",
      "GGCAT -> GCATG\n"
     ]
    }
   ],
   "source": [
    "inputs = []\n",
    "while True:\n",
    "    inp = input()\n",
    "    if inp != \"\":\n",
    "        inputs.append(inp)\n",
    "    else:\n",
    "        break\n",
    "#print(inputs)\n",
    "\n",
    "inputs.sort()\n",
    "for i in range(0,len(inputs)):\n",
    "    inp_i=inputs[i]\n",
    "    #print(inp_i)\n",
    "    for j in range(0,len(inputs)):\n",
    "        inp_j=inputs[j]\n",
    "        #print(inp_j)\n",
    "        if j!=i:\n",
    "            suffix=inp_i[1:1+len(inp_i)-1]\n",
    "            prefix=inp_j[0:0+len(inp_j)-1]\n",
    "            #print(suffix)\n",
    "            #print(prefix)\n",
    "            #print(\" \")\n",
    "            \n",
    "            if suffix==prefix:\n",
    "                #print(\"yes\")\n",
    "                out=inp_i\n",
    "                out+=' -> '\n",
    "                out+=inp_j\n",
    "                print(out)"
   ]
  },
  {
   "cell_type": "markdown",
   "metadata": {},
   "source": [
    "3D"
   ]
  },
  {
   "cell_type": "code",
   "execution_count": 4,
   "metadata": {},
   "outputs": [
    {
     "name": "stdout",
     "output_type": "stream",
     "text": [
      "4\n",
      "AAGATTCTCTAC\n",
      "AAG\n",
      " -> \n",
      "['AGA']\n",
      "AGA\n",
      " -> \n",
      "['GAT']\n",
      "ATT\n",
      " -> \n",
      "['TTC']\n",
      "CTA\n",
      " -> \n",
      "['TAC']\n",
      "CTC\n",
      " -> \n",
      "['TCT']\n",
      "GAT\n",
      " -> \n",
      "['ATT']\n",
      "TCT\n",
      " -> \n",
      "['CTC', 'CTA']\n",
      "TTC\n",
      " -> \n",
      "['TCT']\n"
     ]
    }
   ],
   "source": [
    "k=int(input())\n",
    "gen=input()\n",
    "k=k-1\n",
    "\n",
    "kmers_1=[]\n",
    "\n",
    "for i in range(0,len(gen)-k):\n",
    "    sub_gen=gen[i:i+k]\n",
    "    kmers_1.append(sub_gen)\n",
    "    \n",
    "kmers=[]\n",
    "\n",
    "for i in range(0,len(kmers_1)):\n",
    "    if kmers_1[i] not in kmers:\n",
    "        kmers.append(kmers_1[i])\n",
    "\n",
    "kmers.sort()\n",
    "#print(kmers)\n",
    "\n",
    "for i in range(0,len(kmers)):\n",
    "    kmer=kmers[i]\n",
    "    print(kmer)\n",
    "    print(\" -> \")\n",
    "    \n",
    "    out=[]\n",
    "    for j in range(0,len(gen)-k+1):\n",
    "        sub_gen=gen[j:j+k]\n",
    "        if sub_gen==kmer:\n",
    "            adj=gen[j+1:j+1+k]\n",
    "            #print(adj)\n",
    "            out.append(adj)\n",
    "    print(out)\n",
    "            "
   ]
  },
  {
   "cell_type": "markdown",
   "metadata": {},
   "source": [
    "3E"
   ]
  },
  {
   "cell_type": "code",
   "execution_count": 6,
   "metadata": {},
   "outputs": [
    {
     "name": "stdout",
     "output_type": "stream",
     "text": [
      "GAGG\n",
      "CAGG\n",
      "GGGG\n",
      "GGGA\n",
      "CAGG\n",
      "AGGG\n",
      "GGAG\n",
      "\n",
      "['AGG', 'CAG', 'GAG', 'GGA', 'GGG']\n",
      "AGG\n",
      " -> \n",
      "['GGG']\n",
      "CAG\n",
      " -> \n",
      "['AGG', 'AGG']\n",
      "GAG\n",
      " -> \n",
      "['AGG']\n",
      "GGA\n",
      " -> \n",
      "['GAG']\n",
      "GGG\n",
      " -> \n",
      "['GGG', 'GGA']\n"
     ]
    }
   ],
   "source": [
    "inputs = []\n",
    "while True:\n",
    "    inp = input()\n",
    "    if inp != \"\":\n",
    "        inputs.append(inp)\n",
    "    else:\n",
    "        break\n",
    "#print(inputs)\n",
    "k=len(inputs[0])\n",
    "k=k-1\n",
    "\n",
    "kmers=[]\n",
    "for i in range(0,len(inputs)):\n",
    "    inp=inputs[i]\n",
    "    for j in range(0,len(inp)-k+1):\n",
    "        kmer=inp[j:j+k]\n",
    "        if kmer not in kmers:\n",
    "            kmers.append(kmer)\n",
    "            \n",
    "kmers.sort()\n",
    "print(kmers)\n",
    "\n",
    "for i in range(0,len(kmers)):\n",
    "    print(kmers[i])\n",
    "    print(\" -> \")\n",
    "    \n",
    "    out=[]\n",
    "    \n",
    "    for j in range(0,len(inputs)):\n",
    "        inp=inputs[j]\n",
    "        kmer_1=inp[0:0+k]\n",
    "        kmer_2=inp[1:1+k]\n",
    "        \n",
    "        if kmer_1==kmers[i]:\n",
    "            suffix=kmer_1[1:1+k-1]\n",
    "            \n",
    "            prefix=kmer_2[0:0+k-1]\n",
    "\n",
    "            if suffix==prefix:\n",
    "                out.append(kmer_2)\n",
    "    \n",
    "    print(out)\n",
    "                \n",
    "        \n",
    "    \n",
    "    \n",
    "    \n",
    "    "
   ]
  },
  {
   "cell_type": "code",
   "execution_count": null,
   "metadata": {},
   "outputs": [],
   "source": []
  }
 ],
 "metadata": {
  "kernelspec": {
   "display_name": "Python 3",
   "language": "python",
   "name": "python3"
  },
  "language_info": {
   "codemirror_mode": {
    "name": "ipython",
    "version": 3
   },
   "file_extension": ".py",
   "mimetype": "text/x-python",
   "name": "python",
   "nbconvert_exporter": "python",
   "pygments_lexer": "ipython3",
   "version": "3.6.5"
  }
 },
 "nbformat": 4,
 "nbformat_minor": 2
}
