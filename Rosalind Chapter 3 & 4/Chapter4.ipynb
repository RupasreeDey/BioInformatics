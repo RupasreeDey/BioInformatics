{
 "cells": [
  {
   "cell_type": "markdown",
   "metadata": {},
   "source": [
    "4A"
   ]
  },
  {
   "cell_type": "code",
   "execution_count": 1,
   "metadata": {},
   "outputs": [
    {
     "name": "stdout",
     "output_type": "stream",
     "text": [
      "AUGGCCAUGGCGCCCAGAACUGAGAUCAAUAGUACCCGUAUUAACGGGUGA\n",
      "MAMAPRTEINSTRING\n"
     ]
    }
   ],
   "source": [
    "mapping = {\n",
    "    'UUU': 'F',     'CUU': 'L',     'AUU': 'I',     'GUU': 'V',\n",
    "    'UUC': 'F',     'CUC': 'L',     'AUC': 'I',     'GUC': 'V',\n",
    "    'UUA': 'L',     'CUA': 'L',     'AUA': 'I',     'GUA': 'V',\n",
    "    'UUG': 'L',     'CUG': 'L',     'AUG': 'M',     'GUG': 'V',\n",
    "    'UCU': 'S',     'CCU': 'P',     'ACU': 'T',     'GCU': 'A',\n",
    "    'UCC': 'S',     'CCC': 'P',     'ACC': 'T',     'GCC': 'A',\n",
    "    'UCA': 'S',     'CCA': 'P',     'ACA': 'T',     'GCA': 'A',\n",
    "    'UCG': 'S',     'CCG': 'P',     'ACG': 'T',     'GCG': 'A',\n",
    "    'UAU': 'Y',     'CAU': 'H',     'AAU': 'N',     'GAU': 'D',\n",
    "    'UAC': 'Y',     'CAC': 'H',     'AAC': 'N',     'GAC': 'D',\n",
    "    'UAA': 'Stop',  'CAA': 'Q',     'AAA': 'K',     'GAA': 'E',\n",
    "    'UAG': 'Stop',  'CAG': 'Q',     'AAG': 'K',     'GAG': 'E',\n",
    "    'UGU': 'C',     'CGU': 'R',     'AGU': 'S',     'GGU': 'G',\n",
    "    'UGC': 'C',     'CGC': 'R',     'AGC': 'S',     'GGC': 'G',\n",
    "    'UGA': 'Stop',  'CGA': 'R',     'AGA': 'R',     'GGA': 'G',\n",
    "    'UGG': 'W',     'CGG': 'R',     'AGG': 'R',     'GGG': 'G'\n",
    "}\n",
    "\n",
    "rna=input()\n",
    "\n",
    "amino_acid = ''\n",
    "\n",
    "for i in range(0, len(rna), 3):\n",
    "    acid = mapping[rna[i:i+3]]\n",
    "    if acid != 'Stop':\n",
    "        amino_acid += acid\n",
    "    else:\n",
    "        break\n",
    "\n",
    "print(amino_acid)\n",
    "\n"
   ]
  },
  {
   "cell_type": "markdown",
   "metadata": {},
   "source": [
    "4B"
   ]
  },
  {
   "cell_type": "code",
   "execution_count": 2,
   "metadata": {},
   "outputs": [
    {
     "name": "stdout",
     "output_type": "stream",
     "text": [
      "ATGGCCATGGCCCCCAGAACTGAGATCAATAGTACCCGTATTAACGGGTGA\n",
      "MA\n",
      "ATGGCC\n",
      "GGCCAT\n",
      "ATGGCC\n",
      "\n"
     ]
    }
   ],
   "source": [
    "mapping = {\n",
    "    'UUU': 'F',     'CUU': 'L',     'AUU': 'I',     'GUU': 'V',\n",
    "    'UUC': 'F',     'CUC': 'L',     'AUC': 'I',     'GUC': 'V',\n",
    "    'UUA': 'L',     'CUA': 'L',     'AUA': 'I',     'GUA': 'V',\n",
    "    'UUG': 'L',     'CUG': 'L',     'AUG': 'M',     'GUG': 'V',\n",
    "    'UCU': 'S',     'CCU': 'P',     'ACU': 'T',     'GCU': 'A',\n",
    "    'UCC': 'S',     'CCC': 'P',     'ACC': 'T',     'GCC': 'A',\n",
    "    'UCA': 'S',     'CCA': 'P',     'ACA': 'T',     'GCA': 'A',\n",
    "    'UCG': 'S',     'CCG': 'P',     'ACG': 'T',     'GCG': 'A',\n",
    "    'UAU': 'Y',     'CAU': 'H',     'AAU': 'N',     'GAU': 'D',\n",
    "    'UAC': 'Y',     'CAC': 'H',     'AAC': 'N',     'GAC': 'D',\n",
    "    'UAA': 'Stop',  'CAA': 'Q',     'AAA': 'K',     'GAA': 'E',\n",
    "    'UAG': 'Stop',  'CAG': 'Q',     'AAG': 'K',     'GAG': 'E',\n",
    "    'UGU': 'C',     'CGU': 'R',     'AGU': 'S',     'GGU': 'G',\n",
    "    'UGC': 'C',     'CGC': 'R',     'AGC': 'S',     'GGC': 'G',\n",
    "    'UGA': 'Stop',  'CGA': 'R',     'AGA': 'R',     'GGA': 'G',\n",
    "    'UGG': 'W',     'CGG': 'R',     'AGG': 'R',     'GGG': 'G'\n",
    "}\n",
    "\n",
    "def rev_com(kmer):\n",
    "    rev=''\n",
    "    for i in range(0,len(kmer)):\n",
    "        if kmer[i]=='C':\n",
    "            rev+='G'\n",
    "        elif kmer[i]=='G':\n",
    "            rev+='C'\n",
    "        elif kmer[i]=='A':\n",
    "            rev+='T'\n",
    "        elif kmer[i]=='T':\n",
    "            rev+='A'\n",
    "    \n",
    "    rev=rev[::-1]\n",
    "    return rev\n",
    "        \n",
    "def DNA_to_RNA(kmer):\n",
    "    return kmer.replace('T', 'U') \n",
    "\n",
    "seq=input()\n",
    "pat=input()\n",
    "\n",
    "k=len(pat)*3\n",
    "\n",
    "output=''\n",
    "\n",
    "for i in range(0,len(seq)-k+1):\n",
    "    kmer=seq[i:i+k]\n",
    "    \n",
    "    kmer_rev=rev_com(kmer)\n",
    "    \n",
    "    kmer_rna=DNA_to_RNA(kmer)\n",
    "    kmer_rev_rna=DNA_to_RNA(kmer_rev)\n",
    "    \n",
    "    \n",
    "    a=mapping[kmer_rna[0:0+3]]\n",
    "    b=mapping[kmer_rna[3:3+3]]\n",
    "    \n",
    "    st=a+b\n",
    "    \n",
    "    c=mapping[kmer_rev_rna[0:0+3]]\n",
    "    d=mapping[kmer_rev_rna[3:3+3]]\n",
    "    \n",
    "    st_rev=c+d\n",
    "    \n",
    "    if st==pat or st_rev==pat:\n",
    "        output+=kmer+'\\n'\n",
    "\n",
    "print(output)"
   ]
  },
  {
   "cell_type": "markdown",
   "metadata": {},
   "source": [
    "4C"
   ]
  },
  {
   "cell_type": "code",
   "execution_count": 3,
   "metadata": {},
   "outputs": [
    {
     "name": "stdout",
     "output_type": "stream",
     "text": [
      "NQEL\n",
      "[0, 113, 114, 128, 129, 227, 242, 242, 257, 355, 356, 370, 371, 484]\n"
     ]
    }
   ],
   "source": [
    "mapping={\n",
    "    'G':57,'A':71 , 'S':87, 'P':97 , 'V':99 , 'T':101 , 'C':103 , 'I':113 , 'L':113 , 'N':114 , 'D':115 , 'K':128 , 'Q':128, 'E':129 , 'M':131 , 'H':137 ,\n",
    "    'F':147 , 'R':156 , 'Y':163 , 'W':186 \n",
    "}\n",
    "def subpeptides(peptide):\n",
    "    comb=[]\n",
    "    l = len(peptide)\n",
    "    looped = peptide + peptide\n",
    "    for start in range(0, l):\n",
    "        for length in range(1, l):\n",
    "            comb.append(looped[start:start+length])\n",
    "    return comb\n",
    "            \n",
    "def mass(peptide):\n",
    "    mass=0\n",
    "    for i in range(0,len(peptide)):\n",
    "        mass+=mapping[peptide[i]]     \n",
    "    return mass\n",
    "\n",
    "peptide=input()\n",
    "spectrum=[0,mass(peptide)]\n",
    "subpeptide=subpeptides(peptide)\n",
    "\n",
    "for i in range(0,len(subpeptide)):\n",
    "    spectrum.append(mass(subpeptide[i]))\n",
    "    \n",
    "spectrum.sort()\n",
    "print(spectrum)"
   ]
  },
  {
   "cell_type": "markdown",
   "metadata": {},
   "source": [
    "4D"
   ]
  },
  {
   "cell_type": "code",
   "execution_count": 4,
   "metadata": {},
   "outputs": [
    {
     "name": "stdout",
     "output_type": "stream",
     "text": [
      "1024\n",
      "14712706211\n"
     ]
    }
   ],
   "source": [
    "    \n",
    "m=int(input())  \n",
    "\n",
    "def count_num(m):\n",
    "        pep_mass = [57,71,87,97,99,101,103,113,114,115,128,129,131,137,147,156,163,186]\n",
    "\n",
    "        mass=[0 for i in range(0,m+1)]\n",
    "        mass[0]=1\n",
    "\n",
    "        for i in range(0,m+1):\n",
    "            for j in range(0,len(pep_mass)):\n",
    "                if i>=pep_mass[j]:\n",
    "                    mass[i]+=mass[i-pep_mass[j]]\n",
    "                    #print(mass[i])\n",
    "        return mass[m]\n",
    "print(count_num(m))"
   ]
  },
  {
   "cell_type": "markdown",
   "metadata": {},
   "source": [
    "4E"
   ]
  },
  {
   "cell_type": "code",
   "execution_count": 5,
   "metadata": {},
   "outputs": [
    {
     "name": "stdout",
     "output_type": "stream",
     "text": [
      "0\n",
      "113\n",
      "114\n",
      "128\n",
      "186\n",
      "427\n",
      "\n",
      "[(113, 128, 186), (113, 186, 128), (128, 113, 186), (128, 186, 113), (186, 113, 128), (186, 128, 113)]\n",
      "None\n"
     ]
    }
   ],
   "source": [
    "import itertools\n",
    "from itertools import permutations\n",
    "\n",
    "def peptides_combination(numbers, target, partial=[]):\n",
    "    s = sum(partial)\n",
    "\n",
    "    # check if the partial sum is equals to target\n",
    "    if s == target and len(partial)==3 and partial[0]!=0: \n",
    "        #print (partial, target)\n",
    "        #comb=itertools.combinations(partial, len(partial))\n",
    "        print(list(permutations(partial)))\n",
    "        \n",
    "    if s >= target:\n",
    "        return  # if we reach the number why bother to continue\n",
    "\n",
    "    for i in range(len(numbers)):\n",
    "        n = numbers[i]\n",
    "        remaining = numbers[i+1:]\n",
    "        peptides_combination(remaining, target, partial + [n]) \n",
    "\n",
    "\n",
    "peptides=[]\n",
    "while(True):\n",
    "    inp=input()\n",
    "    if inp=='':\n",
    "        break\n",
    "    else:\n",
    "        peptides.append(int(inp))\n",
    "        \n",
    "#print(peptides)\n",
    "    \n",
    "    \n",
    "print(peptides_combination(peptides,peptides[len(peptides)-1]))"
   ]
  },
  {
   "cell_type": "markdown",
   "metadata": {},
   "source": [
    "4F"
   ]
  },
  {
   "cell_type": "code",
   "execution_count": 6,
   "metadata": {},
   "outputs": [
    {
     "name": "stdout",
     "output_type": "stream",
     "text": [
      "NQEL\n",
      "1\n",
      "2\n",
      "\n",
      "0\n"
     ]
    }
   ],
   "source": [
    "peptide=input()\n",
    "\n",
    "theoretical_spectra=[]\n",
    "while(True):\n",
    "    inp=input()\n",
    "    if inp=='':\n",
    "        break\n",
    "    else:\n",
    "        theoretical_spectra.append(int(inp))\n",
    "        \n",
    "#print(theoretical_spectra)\n",
    "\n",
    "mapping={\n",
    "    'G':57,'A':71 , 'S':87, 'P':97 , 'V':99 , 'T':101 , 'C':103 , 'I':113 , 'L':113 , 'N':114 , 'D':115 , 'K':128 , 'Q':128, 'E':129 , 'M':131 , 'H':137 ,\n",
    "    'F':147 , 'R':156 , 'Y':163 , 'W':186 \n",
    "}\n",
    "def subpeptides(peptide):\n",
    "    comb=[]\n",
    "    l = len(peptide)\n",
    "    looped = peptide + peptide\n",
    "    for start in range(0, l):\n",
    "        for length in range(1, l):\n",
    "            comb.append(looped[start:start+length])\n",
    "    return comb\n",
    "            \n",
    "def mass(peptide):\n",
    "    mass=0\n",
    "    for i in range(0,len(peptide)):\n",
    "        mass+=mapping[peptide[i]]     \n",
    "    return mass\n",
    "\n",
    "\n",
    "spectrum=[0,mass(peptide)]\n",
    "subpeptide=subpeptides(peptide)\n",
    "\n",
    "for i in range(0,len(subpeptide)):\n",
    "    spectrum.append(mass(subpeptide[i]))\n",
    "    \n",
    "spectrum.sort()\n",
    "\n",
    "i=0\n",
    "j=0\n",
    "score=0\n",
    "\n",
    "while i<len(theoretical_spectra) and j<len(spectrum):\n",
    "    if theoretical_spectra[i]==spectrum[j]:\n",
    "        i+=1\n",
    "        j+=1\n",
    "        score+=1\n",
    "        \n",
    "    elif theoretical_spectra[i]>spectrum[j]:\n",
    "        j+=1\n",
    "    else:\n",
    "        i+=1\n",
    "\n",
    "    \n",
    "print(score)\n",
    "\n",
    "\n"
   ]
  },
  {
   "cell_type": "markdown",
   "metadata": {},
   "source": [
    "4H"
   ]
  },
  {
   "cell_type": "code",
   "execution_count": 7,
   "metadata": {},
   "outputs": [
    {
     "name": "stdout",
     "output_type": "stream",
     "text": [
      "0\n",
      "113\n",
      "114\n",
      "323\n",
      "\n",
      "[1, 113, 114, 209, 210, 323]\n"
     ]
    }
   ],
   "source": [
    "spectra=[]\n",
    "while(True):\n",
    "    inp=input()\n",
    "    if inp=='':\n",
    "        break\n",
    "    else:\n",
    "        spectra.append(int(inp))\n",
    "        \n",
    "#print(spectra)\n",
    "\n",
    "conv=[]\n",
    "    \n",
    "for i in range(0,len(spectra)):\n",
    "    for j in range(0,len(spectra)):\n",
    "        if spectra[j]>spectra[i]:\n",
    "            conv.append(spectra[j]-spectra[i])\n",
    "conv.sort()\n",
    "print(conv)"
   ]
  },
  {
   "cell_type": "markdown",
   "metadata": {},
   "source": [
    "4J"
   ]
  },
  {
   "cell_type": "code",
   "execution_count": 8,
   "metadata": {},
   "outputs": [
    {
     "name": "stdout",
     "output_type": "stream",
     "text": [
      "NQEL\n",
      "[0, 113, 114, 128, 129, 242, 242, 257, 370, 371, 484]\n"
     ]
    }
   ],
   "source": [
    "mapping={\n",
    "    'G':57,'A':71 , 'S':87, 'P':97 , 'V':99 , 'T':101 , 'C':103 , 'I':113 , 'L':113 , 'N':114 , 'D':115 , 'K':128 , 'Q':128, 'E':129 , 'M':131 , 'H':137 ,\n",
    "    'F':147 , 'R':156 , 'Y':163 , 'W':186 \n",
    "}\n",
    "def subpeptides(peptide):\n",
    "    comb=[]\n",
    "    l = len(peptide)\n",
    "    \n",
    "    for a in range(0, l): #linear subpeptides\n",
    "        for b in range(a, l):\n",
    "            comb.append(peptide[a:b + 1])\n",
    "        \n",
    "    return comb\n",
    "            \n",
    "def mass(peptide):\n",
    "    mass=0\n",
    "    for i in range(0,len(peptide)):\n",
    "        mass+=mapping[peptide[i]]     \n",
    "    return mass\n",
    "\n",
    "peptide=input()\n",
    "spectrum=[0]\n",
    "subpeptide=subpeptides(peptide)\n",
    "\n",
    "for i in range(0,len(subpeptide)):\n",
    "    spectrum.append(mass(subpeptide[i]))\n",
    "    \n",
    "spectrum.sort()\n",
    "print(spectrum)"
   ]
  },
  {
   "cell_type": "markdown",
   "metadata": {},
   "source": [
    "4K"
   ]
  },
  {
   "cell_type": "code",
   "execution_count": 9,
   "metadata": {},
   "outputs": [
    {
     "name": "stdout",
     "output_type": "stream",
     "text": [
      "NQEL\n",
      "0\n",
      "113\n",
      "114\n",
      "186\n",
      "484\n",
      "\n",
      "4\n"
     ]
    }
   ],
   "source": [
    "peptide=input()\n",
    "\n",
    "theoretical_spectra=[]\n",
    "while(True):\n",
    "    inp=input()\n",
    "    if inp=='':\n",
    "        break\n",
    "    else:\n",
    "        theoretical_spectra.append(int(inp))\n",
    "        \n",
    "#print(theoretical_spectra)\n",
    "\n",
    "mapping={\n",
    "    'G':57,'A':71 , 'S':87, 'P':97 , 'V':99 , 'T':101 , 'C':103 , 'I':113 , 'L':113 , 'N':114 , 'D':115 , 'K':128 , 'Q':128, 'E':129 , 'M':131 , 'H':137 ,\n",
    "    'F':147 , 'R':156 , 'Y':163 , 'W':186 \n",
    "}\n",
    "def subpeptides(peptide):\n",
    "    comb=[]\n",
    "    l = len(peptide)\n",
    "    \n",
    "    for a in range(0, l): #linear subpeptides\n",
    "        for b in range(a, l):\n",
    "            comb.append(peptide[a:b + 1])\n",
    "        \n",
    "    return comb\n",
    "            \n",
    "def mass(peptide):\n",
    "    mass=0\n",
    "    for i in range(0,len(peptide)):\n",
    "        mass+=mapping[peptide[i]]     \n",
    "    return mass\n",
    "\n",
    "\n",
    "spectrum=[0,mass(peptide)]\n",
    "subpeptide=subpeptides(peptide)\n",
    "\n",
    "for i in range(0,len(subpeptide)):\n",
    "    spectrum.append(mass(subpeptide[i]))\n",
    "    \n",
    "spectrum.sort()\n",
    "\n",
    "i=0\n",
    "j=0\n",
    "score=0\n",
    "\n",
    "while i<len(theoretical_spectra) and j<len(spectrum):\n",
    "    if theoretical_spectra[i]==spectrum[j]:\n",
    "        i+=1\n",
    "        j+=1\n",
    "        score+=1\n",
    "        \n",
    "    elif theoretical_spectra[i]>spectrum[j]:\n",
    "        j+=1\n",
    "    else:\n",
    "        i+=1\n",
    "\n",
    "    \n",
    "print(score)\n",
    "\n",
    "\n"
   ]
  },
  {
   "cell_type": "code",
   "execution_count": null,
   "metadata": {},
   "outputs": [],
   "source": []
  }
 ],
 "metadata": {
  "kernelspec": {
   "display_name": "Python 3",
   "language": "python",
   "name": "python3"
  },
  "language_info": {
   "codemirror_mode": {
    "name": "ipython",
    "version": 3
   },
   "file_extension": ".py",
   "mimetype": "text/x-python",
   "name": "python",
   "nbconvert_exporter": "python",
   "pygments_lexer": "ipython3",
   "version": "3.6.5"
  }
 },
 "nbformat": 4,
 "nbformat_minor": 2
}
